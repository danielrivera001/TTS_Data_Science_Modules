{
 "cells": [
  {
   "cell_type": "markdown",
   "metadata": {},
   "source": [
    "Data Science Fundamentals: Python |\n",
    "[Table of Contents](../index.ipynb)\n",
    "- - - \n",
    "<!--NAVIGATION-->\n",
    "Module 3. [Control Flow](./01_mod_control_flow.ipynb) | [Statements](./02_python_statements.ipynb) | [Functions](./03_python_functions.ipynb) | **[Exercises](./04_mod_exercises.ipynb)**\n",
    "<!--NAVIGATION-->\n",
    "Supplemental. [While Loops](./supplemental/01_while-loop.ipynb) | [If Elif Else](./supplemental/02_if-elif-else.ipynb) | [Break Continue](./supplemental/03_break_continue.ipynb) | [For Loops](./04_for_loop.ipynb)\n",
    "<!--NAVIGATION-->\n",
    "Optional. [Writing Assignment](./optional/writing_assignment.ipynb) | [Real World Examples](./optional/real_world_examples.ipynb)"
   ]
  },
  {
   "cell_type": "markdown",
   "metadata": {},
   "source": [
    "# Module 3: Practice Exercises"
   ]
  },
  {
   "cell_type": "markdown",
   "metadata": {},
   "source": [
    "1. Guess a number between 1 to 9 given by the user. Hint. [Random](https://docs.python.org/3/library/random.html)"
   ]
  },
  {
   "cell_type": "code",
   "execution_count": 6,
   "metadata": {},
   "outputs": [
    {
     "name": "stdout",
     "output_type": "stream",
     "text": [
      "Guess a number: 2\n",
      "Incorrect!\n",
      "\n",
      "Guess a number: 1\n",
      "Incorrect!\n",
      "\n",
      "Guess a number: 3\n",
      "Well guessed!\n"
     ]
    }
   ],
   "source": [
    "#import the random function from the library\n",
    "from random import randint as rt\n",
    "#Input our data set\n",
    "data= rt(1,9)\n",
    "#while loop if the data set is true, print correct guess\n",
    "while True:\n",
    "    ug = int(input(\"Guess a number: \"))\n",
    "    if data==ug:\n",
    "        print(\"Well guessed!\")\n",
    "        break\n",
    "#If the guess is wrong, print guess again\n",
    "    else:\n",
    "        print(\"Incorrect!\\n\")"
   ]
  },
  {
   "cell_type": "markdown",
   "metadata": {},
   "source": [
    "2. Check the validity of password input by the user. Hint. [Re](https://docs.python.org/3/library/re.html) which does matching operations much like Perl.\n",
    "\n",
    "Validation:\n",
    "\n",
    "- At least 1 letter between [a-z] and 1 letter between [A-Z].\n",
    "- At least 1 number between [0-9].\n",
    "- At least 1 character from [$#@].\n",
    "- Minimum length 6 characters.\n",
    "- Maximum length 16 characters."
   ]
  },
  {
   "cell_type": "code",
   "execution_count": 10,
   "metadata": {},
   "outputs": [
    {
     "name": "stdout",
     "output_type": "stream",
     "text": [
      "Input your password:S@lad25\n",
      "Valid Password\n"
     ]
    }
   ],
   "source": [
    "#Re search allows you to search certain characters within a user input\n",
    "import re\n",
    "pa=input(\"Input your password:\")\n",
    "#If x is true, make sure all of the conditions are satisfied using if and elif.\n",
    "x= True\n",
    "while x:\n",
    "    if (len(pa)<6 or len(pa)>16):\n",
    "        break\n",
    "    elif not re.search(\"[a-z]\",pa):\n",
    "        break\n",
    "    elif not re.search(\"[0-9]\",pa):\n",
    "        break\n",
    "    elif not re.search(\"[A-Z]\",pa):\n",
    "        break\n",
    "    elif not re.search(\"[$#@]\", pa):\n",
    "        break\n",
    "#If the conditions are satisfied, output valid password, otherwise tell the useer to try again\n",
    "    else:\n",
    "        print(\"Valid Password\")\n",
    "        x=False\n",
    "        break\n",
    "if x:\n",
    "    \n",
    "    print(\"Not a Valid Password, Please try again\")"
   ]
  },
  {
   "cell_type": "markdown",
   "metadata": {},
   "source": [
    "3. Get input of the age of 3 people by user and determine oldest and youngest among them"
   ]
  },
  {
   "cell_type": "code",
   "execution_count": 22,
   "metadata": {},
   "outputs": [
    {
     "name": "stdout",
     "output_type": "stream",
     "text": [
      "Enter First Person's Age : 12\n",
      "Enter Second Person's Age : 25\n",
      "Enter Third Person's Age : 86\n",
      "The Oldest Person is: 86\n",
      "The Youngest Person is: 12\n"
     ]
    }
   ],
   "source": [
    "number1 = int(input(\"Enter First Person's Age : \"))\n",
    "number2 = int(input(\"Enter Second Person's Age : \"))\n",
    "number3 = int(input(\"Enter Third Person's Age : \"))\n",
    "#Use if-else statements to classify which person is the oldest and which is the youngest\n",
    "if (number1 > number2) & (number1 > number3):\n",
    "    print(\"The Oldest Person is:\",number1)\n",
    "    if number2 < number3:\n",
    "        print(\"The Youngest Person is:\",number2)\n",
    "    else:\n",
    "        print(\"The Youngest Person is:\",number3)\n",
    "elif (number2 > number1) & (number2 > number3):\n",
    "    print(\"The Oldest Person is:\",number2)\n",
    "    if number1 < number3:\n",
    "        print(\"The Youngest Person is:\",number1)\n",
    "    else:\n",
    "        print(\"The Youngest Person is:\",number3)\n",
    "else:\n",
    "     print(\"The Oldest Person is:\",number3)\n",
    "     if number1 < number2:\n",
    "         print(\"The Youngest Person is:\",number1)\n",
    "     else:\n",
    "         print(\"The Youngest Person is:\",number2)"
   ]
  },
  {
   "cell_type": "markdown",
   "metadata": {},
   "source": [
    "4. A student will not be allowed to sit in exam if his/her attendance is less than 75%.\n",
    "\n",
    "Take following input from user\n",
    "\n",
    "- Number of classes held\n",
    "- Number of classes attended.\n",
    "- And print percentage of class attended\n",
    "- Is student is allowed to sit in exam or not?"
   ]
  },
  {
   "cell_type": "code",
   "execution_count": 23,
   "metadata": {},
   "outputs": [
    {
     "name": "stdout",
     "output_type": "stream",
     "text": [
      "How many classes are held:100\n",
      "How many classes have you attended?:74\n",
      "Percentage of Class attendance: 74%\n",
      "You can not take part in the exam\n"
     ]
    }
   ],
   "source": [
    "#held is the amount of classes held\n",
    "held=int(input(\"How many classes are held:\"))\n",
    "#attend is the number of classes that user has attended\n",
    "attend=int(input(\"How many classes have you attended?:\"))\n",
    "#perc is the decimal form of the amount of classes attended to held\n",
    "perc=(attend/held)\n",
    "#the f\"{}\" formats the perc and outputs it as a percentange\n",
    "print(\"Percentage of Class attendance:\",f\"{perc:.0%}\")\n",
    "#use an if-else statement to determine if the user can take part in the exam or not\n",
    "if (perc > 0.75):\n",
    "    print (\"You can take part in the exam\")\n",
    "else:\n",
    "    print(\"You can not take part in the exam\")"
   ]
  },
  {
   "cell_type": "markdown",
   "metadata": {},
   "source": [
    "5. Get an integer N from the user and perform the following actions:\n",
    "\n",
    "Find out - \n",
    "- if N is odd, print \"weird\"\n",
    "- if N is even and in the inclusive range of 2 to 5, print \"Not Weird\"\n",
    "- if N is even and in the inclusive range of 6 to 20, print \"Weird\"\n",
    "- if N is even and greater than 20, print \"Not Weird\""
   ]
  },
  {
   "cell_type": "code",
   "execution_count": 36,
   "metadata": {},
   "outputs": [
    {
     "name": "stdout",
     "output_type": "stream",
     "text": [
      "Input a Number to see if you are weird or not weird:5\n",
      "Weird\n"
     ]
    }
   ],
   "source": [
    "# Given an integer, n, perform the following conditional actions:\n",
    "#Print prompt for user input\n",
    "n=int(input(\"Input a Number to see if you are weird or not weird:\"))\n",
    "#Specify the conditions of n if it's even or odd using an if-else loop\n",
    "if n % 2 != 0:\n",
    "    print(\"Weird\")\n",
    "else:\n",
    "    if n >= 2 and n <= 5:\n",
    "        print(\"Not Weird\")\n",
    "    elif n >= 6 and n <= 20:\n",
    "        print(\"Weird\")\n",
    "    elif n > 20:\n",
    "        print(\"Not Weird\")\n",
    "# If n is odd, print Weird\n",
    "# If n is even and in the inclusive range of 2 to 5, print Not Weird\n",
    "# If n is even and in the inclusive range of 6 to 20, print Weird\n",
    "# If n is even and greater than 20, print Not Weird\n",
    "\n"
   ]
  },
  {
   "cell_type": "markdown",
   "metadata": {},
   "source": [
    "\n",
    "## Extra Points\n",
    "- - -"
   ]
  },
  {
   "cell_type": "markdown",
   "metadata": {},
   "source": [
    "1. ***Optional Exercise (Extra Points)***. Write a Python program to reverse a string."
   ]
  },
  {
   "cell_type": "raw",
   "metadata": {},
   "source": [
    "Sample String : \"1234abcd\"\n",
    "Expected Output : \"dcba4321\""
   ]
  },
  {
   "cell_type": "code",
   "execution_count": 2,
   "metadata": {},
   "outputs": [
    {
     "name": "stdout",
     "output_type": "stream",
     "text": [
      "The original string is : 1234abcd\n",
      "The reversed string(using loops) is : dcba4321\n"
     ]
    }
   ],
   "source": [
    "#We must first define a function called reverse\n",
    "def reverse(s):\n",
    "    #Initialize the str witn any given input\n",
    "    str = \"\"\n",
    "    #start a for loop for all of the \"i\" terms in the string in order to reverse it \n",
    "    for i in s:\n",
    "        str = i + str\n",
    "    return str\n",
    "#Specify any string you want \n",
    "s = \"1234abcd\"\n",
    "#Print the original string and the reversed result\n",
    "print(\"The original string is : \", end=\"\")\n",
    "print(s)\n",
    " \n",
    "print(\"The reversed string(using loops) is : \", end=\"\")\n",
    "print(reverse(s))"
   ]
  },
  {
   "cell_type": "markdown",
   "metadata": {},
   "source": [
    "2. ***Optional Exercise (Extra Points)***. Write a Python function to multiply all the numbers in a list. "
   ]
  },
  {
   "cell_type": "raw",
   "metadata": {},
   "source": [
    "Sample List : (8, 2, 3, -1, 7)\n",
    "Expected Output : -336"
   ]
  },
  {
   "cell_type": "code",
   "execution_count": 7,
   "metadata": {},
   "outputs": [
    {
     "name": "stdout",
     "output_type": "stream",
     "text": [
      "Sample List (8, 2, 3, -1, 7)\n",
      "Sample Multiplied: -336\n"
     ]
    }
   ],
   "source": [
    "#Specify the sample List as L and initialize it with 1\n",
    "#Define a function called multiplier that is dependent on a list \"s\"\n",
    "def multiplier(s):\n",
    "    L=1\n",
    "#Establish a for loop that multiplies\n",
    "    for i in s:\n",
    "        L = L*i\n",
    "    return L\n",
    "Sample=(8, 2, 3, -1, 7)\n",
    "print(\"Sample List\",Sample)\n",
    "print(\"Sample Multiplied:\",multiplier(Sample))\n",
    "    "
   ]
  },
  {
   "cell_type": "markdown",
   "metadata": {},
   "source": [
    "3. ***Optional Exercise (Extra Points)***. Write a Python function that accepts a string and calculate the number of upper case letters and lower case letters."
   ]
  },
  {
   "cell_type": "raw",
   "metadata": {},
   "source": [
    "Sample String : 'The quick Brow Fox'\n",
    "Expected Output :\n",
    "No. of Upper case characters : 3\n",
    "No. of Lower case Characters : 12"
   ]
  },
  {
   "cell_type": "code",
   "execution_count": 8,
   "metadata": {},
   "outputs": [
    {
     "name": "stdout",
     "output_type": "stream",
     "text": [
      "Original String :  The quick Brown Fox\n",
      "No. of Upper case characters :  3\n",
      "No. of Lower case Characters :  13\n"
     ]
    }
   ],
   "source": [
    "def letter(s):\n",
    "    d={\"UPPER_CASE\":0, \"LOWER_CASE\":0}\n",
    "    for c in s:\n",
    "        if c.isupper():\n",
    "           d[\"UPPER_CASE\"]+=1\n",
    "        elif c.islower():\n",
    "           d[\"LOWER_CASE\"]+=1\n",
    "        else:\n",
    "           pass\n",
    "    print (\"Original String : \", s)\n",
    "    print (\"No. of Upper case characters : \", d[\"UPPER_CASE\"])\n",
    "    print (\"No. of Lower case Characters : \", d[\"LOWER_CASE\"])\n",
    "letter('The quick Brown Fox')"
   ]
  },
  {
   "cell_type": "markdown",
   "metadata": {},
   "source": [
    "- - -\n",
    "\n",
    "Copyright © 2020 Qualex Consulting Services Incorporated."
   ]
  },
  {
   "cell_type": "code",
   "execution_count": null,
   "metadata": {},
   "outputs": [],
   "source": []
  }
 ],
 "metadata": {
  "kernelspec": {
   "display_name": "Python 3 (ipykernel)",
   "language": "python",
   "name": "python3"
  },
  "language_info": {
   "codemirror_mode": {
    "name": "ipython",
    "version": 3
   },
   "file_extension": ".py",
   "mimetype": "text/x-python",
   "name": "python",
   "nbconvert_exporter": "python",
   "pygments_lexer": "ipython3",
   "version": "3.9.12"
  }
 },
 "nbformat": 4,
 "nbformat_minor": 4
}
