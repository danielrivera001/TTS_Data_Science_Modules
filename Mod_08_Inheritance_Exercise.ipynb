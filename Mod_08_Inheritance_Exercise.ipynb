{
 "cells": [
  {
   "cell_type": "markdown",
   "metadata": {},
   "source": [
    "Data Science Fundamentals: Python |\n",
    "[Table of Contents](../index.ipynb)\n",
    "- - - \n",
    "<!--NAVIGATION-->\n",
    "Module 8. | [Inheritance & Methods](./01_oop_inheritance.ipynb) | [Sequences, Iterables, Generators Revisited](02_revisited.ipynb) | **[Exercises](./03_inheritance_methods_exercises.ipynb)**"
   ]
  },
  {
   "cell_type": "markdown",
   "metadata": {},
   "source": [
    "# Module 8: Practice Exercises"
   ]
  },
  {
   "cell_type": "markdown",
   "metadata": {},
   "source": [
    "## Exercise 1. "
   ]
  },
  {
   "cell_type": "markdown",
   "metadata": {},
   "source": [
    "You are given two classes, Person and Student, where Person is the base class and Student is the derived class. Completed code for Person and a declaration for Student are provided for you in the editor. Observe that Student inherits all the properties of Person.\n",
    "\n",
    "Complete the Student class by writing the following:\n",
    "\n",
    "A Student class constructor, which has 4 parameters:\n",
    "- A string, firstName\n",
    "- A string, lastName\n",
    "- An integer, id\n",
    "An integer array (or vector) of test scores, scores\n",
    "\n",
    "A char **calculate()** method that calculates a Student object's average and returns the grade character representative of their calculated average:\n",
    "```\n",
    "A | 90-100\n",
    "B | 80-89\n",
    "C | 70-79\n",
    "D | 60-69\n",
    "F | <60\n",
    "```"
   ]
  },
  {
   "cell_type": "code",
   "execution_count": 8,
   "metadata": {},
   "outputs": [],
   "source": [
    "# define the Vehicle class\n",
    "\n",
    "class Person:\n",
    "    fname = \"\"\n",
    "    lname = \"\"\n",
    "    def desc(self):\n",
    "        desc_person = \"%s %s is a person.\" % (self.fname, self.lname)\n",
    "        return desc_person\n",
    "\n",
    "class Student(Person):\n",
    "      def desc(self):\n",
    "          desc_person = \"%s %s is a student.\" % (self.fname, self.lname)\n",
    "          return desc_person\n",
    "        \n",
    "class Grades(Student):\n",
    "      def desc(self):\n",
    "           desc_person = \"%s %s has grades.\" % (self.fname, self.lname)\n",
    "           return desc_person\n",
    "\n"
   ]
  },
  {
   "cell_type": "code",
   "execution_count": 16,
   "metadata": {},
   "outputs": [
    {
     "name": "stdout",
     "output_type": "stream",
     "text": [
      "Gart Jackson 1234567\n",
      "5\n",
      "80 50 90 75 85\n",
      "Name: Jackson, Gart\n",
      "ID: 1234567\n",
      "Grade: C\n"
     ]
    }
   ],
   "source": [
    "# your code goes here\n",
    "#Define a class called person that contains init and print person functions\n",
    "class Person:\n",
    "    #init distinguishes the input's first name, last name, and id number\n",
    "    def __init__(self, firstName, lastName, idNumber):\n",
    "        self.firstName = firstName\n",
    "        self.lastName = lastName\n",
    "        self.idNumber = idNumber\n",
    "    #PrintPerson prints the person's first name, last name, and id number\n",
    "    def printPerson(self):\n",
    "        print(\"Name:\", self.lastName + \",\", self.firstName)\n",
    "        print(\"ID:\", self.idNumber)\n",
    "#Define a class  called student that contains functions init and calculate\n",
    "class Student(Person):\n",
    "    #init calles the init function from person and reports a self score\n",
    "    def __init__(self, firstName, lastName, idNum, scores):\n",
    "        Person.__init__(self, firstName, lastName, idNum)\n",
    "        self.scores = scores\n",
    "    #Calculate uses if/elif function to determine if the letter grade of the student\n",
    "    def calculate(self):\n",
    "        #A calculates the average of the given score by dividing the sum of the scores by the number (len) of scores\n",
    "        a=sum(scores)/len(scores)\n",
    "        if 90<= a<=100:\n",
    "            return 'A'\n",
    "        elif 80<= a<90:\n",
    "            return 'B'\n",
    "        elif 70<=a<80:\n",
    "            return 'C'\n",
    "        elif 60<= a<70:\n",
    "            return 'D'\n",
    "        #if a is less than 60, return an F grade\n",
    "        else:\n",
    "            return 'F'\n",
    "#line is the split input. The first, second and third elements are \n",
    "#first name, last name, and id Number respectively\n",
    "line = input().split()\n",
    "fname = line[0]\n",
    "lname = line[1]\n",
    "idNum = line[2]\n",
    "#numScores are ineger inputs\n",
    "numScores = int(input()) # not needed for Python\n",
    "#scores are listed, mapped, and split based on user input\n",
    "scores = list( map(int, input().split()) )\n",
    "#s is the class student in terms of first name, last name, id Number, and scores\n",
    "s = Student(fname, lname, idNum, scores)\n",
    "#print the person and the grade that that person recieved.\n",
    "s.printPerson()\n",
    "print(\"Grade:\", s.calculate())\n"
   ]
  },
  {
   "cell_type": "code",
   "execution_count": 3,
   "metadata": {},
   "outputs": [
    {
     "name": "stdout",
     "output_type": "stream",
     "text": [
      "Gary Jackson is a person.\n",
      "Gary Jackson is a student.\n",
      "Gary Jackson has grades.\n"
     ]
    }
   ],
   "source": [
    "# test code\n",
    "print(person1.desc())\n",
    "print(person2.desc())\n",
    "print(person3.desc())"
   ]
  },
  {
   "cell_type": "code",
   "execution_count": 1,
   "metadata": {},
   "outputs": [],
   "source": []
  },
  {
   "cell_type": "code",
   "execution_count": 2,
   "metadata": {},
   "outputs": [
    {
     "name": "stdout",
     "output_type": "stream",
     "text": [
      "First name: Gary\n",
      "Last name: Jackson\n",
      "Student ID: 7\n",
      "Enter a list grades separated by space: 80 50 90 75 85\n",
      "Gary Jackson Student ID 7, you got a C.\n"
     ]
    }
   ],
   "source": []
  },
  {
   "cell_type": "markdown",
   "metadata": {},
   "source": [
    "[How To Submit Your Exercises](https://www.youtube.com/watch?v=GCd4auHwZZY)"
   ]
  },
  {
   "cell_type": "markdown",
   "metadata": {},
   "source": [
    "- - - \n",
    "<!--NAVIGATION-->\n",
    "Module 8. | [Inheritance & Methods](./01_oop_inheritance.ipynb) | [Sequences, Iterables, Generators Revisited](02_revisited.ipynb) | **[Exercises](./03_inheritance_methods_exercises.ipynb)**\n",
    "<br>\n",
    "[Top](#)"
   ]
  },
  {
   "cell_type": "markdown",
   "metadata": {},
   "source": [
    "- - -\n",
    "\n",
    "Copyright © 2020 Qualex Consulting Services Incorporated."
   ]
  },
  {
   "cell_type": "code",
   "execution_count": null,
   "metadata": {},
   "outputs": [],
   "source": []
  }
 ],
 "metadata": {
  "kernelspec": {
   "display_name": "Python 3 (ipykernel)",
   "language": "python",
   "name": "python3"
  },
  "language_info": {
   "codemirror_mode": {
    "name": "ipython",
    "version": 3
   },
   "file_extension": ".py",
   "mimetype": "text/x-python",
   "name": "python",
   "nbconvert_exporter": "python",
   "pygments_lexer": "ipython3",
   "version": "3.9.12"
  }
 },
 "nbformat": 4,
 "nbformat_minor": 4
}
