{
 "cells": [
  {
   "cell_type": "code",
   "execution_count": 9,
   "id": "c7dc8cf9",
   "metadata": {},
   "outputs": [
    {
     "name": "stdout",
     "output_type": "stream",
     "text": [
      "(2.0, 1.0)\n",
      "(-1.0, -1.0)\n"
     ]
    }
   ],
   "source": [
    "#Data Structures Exercises \n",
    "##by Daniel Rivera\n",
    "#Complete the following exercises in the single Jupyter Notebook File provided, and submit the file for grading (.ipynb files). Assignment should be well formated with the exercises being displayed before each answer.\n",
    "\n",
    "#Exercise 1\n",
    "#In mathematics, the quadratic equation ax2+bx+c=0 can be solved with the formula x=−b±b2−4ac√2a.\n",
    "\n",
    "#Write a function solve_quadratic, that returns both solutions of a generic quadratic as a pair (2-tuple) when the coefficients are given as parameters. It should work like this:\n",
    "import math\n",
    "#define your function and coefficients\n",
    "def solve_quadratic(a, b, c):\n",
    "#Equation for Discriminant\n",
    "    disc=(b**2)-(4*a*c)\n",
    "#Define your two solutions to solve the quadratic formula\n",
    "    sol2=(-b-math.sqrt(disc))/(2*a)\n",
    "    sol1=(-b+math.sqrt(disc))/(2*a)\n",
    "    #create a tuple from the two solutions\n",
    "    tup=sol1, sol2;\n",
    "    print(tup)\n",
    "    return tup\n",
    "#define a function main where you can input any constants you want to solve the quadratic formula\n",
    "def main():\n",
    "    solve_quadratic(1,-3,2)\n",
    "    solve_quadratic(1,2,1)\n",
    "if __name__==\"__main__\":\n",
    "    main()\n",
    " \n",
    "\n",
    "#print(solve_quadratic(1,-3,2))\n",
    "#(2.0,1.0)\n",
    "#print(solve_quadratic(1,2,1))\n",
    "#(-1.0,-1.0)\n",
    "#You may want to use the math.sqrt function from the math module in your solution. Test that your function works in the main function!\n",
    "\n",
    "\n",
    "\n",
    "\n",
    "\n"
   ]
  },
  {
   "cell_type": "code",
   "execution_count": 2,
   "id": "a211f35e",
   "metadata": {},
   "outputs": [
    {
     "name": "stdout",
     "output_type": "stream",
     "text": [
      "2\n",
      "1 2\n",
      "Hash of tuple: -3550055125485641917\n"
     ]
    }
   ],
   "source": [
    "#Exercise 2\n",
    "#Get a space-separated list of integers from the user, create a tuple of those integers. Then compute and print the result of hash(tuple).\n",
    "if __name__ == '__main__':\n",
    "    n = (int(input()))\n",
    "    integer_list = map(int,input().split())\n",
    "    t=tuple((integer_list))\n",
    "\n",
    "    print(\"Hash of tuple:\",hash(t))\n",
    "\n",
    "\n"
   ]
  },
  {
   "cell_type": "code",
   "execution_count": 40,
   "id": "7937344b",
   "metadata": {},
   "outputs": [
    {
     "name": "stdout",
     "output_type": "stream",
     "text": [
      "Elements at odd-index positions from List One: [6, 12, 18]\n",
      "Elements at even-index positions from List Two: [4, 12, 20, 28]\n",
      "Third list: [6, 12, 18, 4, 12, 20, 28]\n"
     ]
    }
   ],
   "source": [
    "#Exercise 3\n",
    "#Take the following two lists. Create a third list by picking a odd-index elements from the first list and even-index elements from the second.\n",
    "\n",
    "listOne = [3, 6, 9, 12, 15, 18, 21]\n",
    "listTwo = [4, 8, 12, 16, 20, 24, 28]\n",
    "#create a third list and call is res, keep it empty for now\n",
    "res= []\n",
    "#use brackets to recreate the list depending on start-stop-step \n",
    "L1_odd_index=listOne[1::2]\n",
    "L2_even_index=listTwo[0::2]\n",
    "#use the extend feature to add the L1 odd and L2 even lists into the res list\n",
    "res.extend(L1_odd_index)\n",
    "res.extend(L2_even_index)\n",
    "#Print the even and odd index lists and the third list res\n",
    "print(\"Elements at odd-index positions from List One:\",L1_odd_index)\n",
    "print(\"Elements at even-index positions from List Two:\",L2_even_index)\n",
    "print(\"Third list:\",res)"
   ]
  },
  {
   "cell_type": "code",
   "execution_count": 49,
   "id": "f9204872",
   "metadata": {},
   "outputs": [
    {
     "name": "stdout",
     "output_type": "stream",
     "text": [
      "1st Chunk: [11, 45, 8]\n",
      "2nd Chunk: [23, 14, 12]\n",
      "3rd Chunk: [78, 45, 89]\n",
      "1st Chunk Reversed: [8, 45, 11]\n",
      "2nd Chunk Reversed: [12, 14, 23]\n",
      "3rd Chunk Reversed: [89, 45, 78]\n"
     ]
    }
   ],
   "source": [
    "#Exercise 4\n",
    "#Take the following list. Slice it into three equal chunks and reverse each list.\n",
    "L = [11, 45, 8, 23, 14, 12, 78, 45, 89]\n",
    "#Slice using brackets remember start-stop-step (in this case our step is 1)\n",
    "L1, L2, L3=L[0:3], L[3:6],L[6::]\n",
    "#Print each chunk to ensure they're equal i.e. they each have 3 numbers\n",
    "print(\"1st Chunk:\",L1)\n",
    "print(\"2nd Chunk:\",L2)\n",
    "print(\"3rd Chunk:\",L3)\n",
    "#Reverse each list using the reverse feature\n",
    "L1.reverse()\n",
    "L2.reverse()\n",
    "L3.reverse()\n",
    "#Print each reversed list\n",
    "print(\"1st Chunk Reversed:\",L1)\n",
    "print(\"2nd Chunk Reversed:\",L2)\n",
    "print(\"3rd Chunk Reversed:\",L3)\n"
   ]
  },
  {
   "cell_type": "code",
   "execution_count": 52,
   "id": "5ba985cd",
   "metadata": {},
   "outputs": [
    {
     "name": "stdout",
     "output_type": "stream",
     "text": [
      "List: [47, 64, 69, 37, 76, 83, 95, 97]\n",
      "Dictionary: {'Zach': 47, 'Emma': 69, 'Kelly': 76, 'Jason': 97}\n",
      "After removing unwanted elements from list: [47, 69, 76, 97]\n"
     ]
    }
   ],
   "source": [
    "#Exercise 5\n",
    "#Iterate through a given list and check if a given element already exists in a dictionary as a key’s value. If not, delete it from the list.\n",
    "sampleDict ={'Zach':47, 'Emma':69, 'Kelly':76, 'Jason':97}\n",
    "rollNumber = [47, 64, 69, 37, 76, 83, 95, 97]\n",
    "#Print the list of roll numbers and the dictionary\n",
    "print(\"List:\", rollNumber)\n",
    "print(\"Dictionary:\", sampleDict)\n",
    "#Create a new list, deleting the items that already exist\n",
    "rollNumber[:] = [item for item in rollNumber if item in sampleDict.values()]\n",
    "print(\"After removing unwanted elements from list:\",rollNumber)\n"
   ]
  },
  {
   "cell_type": "code",
   "execution_count": null,
   "id": "164a7d96",
   "metadata": {},
   "outputs": [],
   "source": []
  }
 ],
 "metadata": {
  "kernelspec": {
   "display_name": "Python 3 (ipykernel)",
   "language": "python",
   "name": "python3"
  },
  "language_info": {
   "codemirror_mode": {
    "name": "ipython",
    "version": 3
   },
   "file_extension": ".py",
   "mimetype": "text/x-python",
   "name": "python",
   "nbconvert_exporter": "python",
   "pygments_lexer": "ipython3",
   "version": "3.9.12"
  }
 },
 "nbformat": 4,
 "nbformat_minor": 5
}
